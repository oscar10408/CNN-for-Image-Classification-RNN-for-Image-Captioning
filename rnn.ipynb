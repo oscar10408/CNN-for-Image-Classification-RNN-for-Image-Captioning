{
 "cells": [
  {
   "cell_type": "markdown",
   "metadata": {
    "colab_type": "text",
    "id": "zNmLmqrJAXXp"
   },
   "source": [
    "# EECS 545 (WN 2025) Homework 4: RNNs and Image Captioning\n",
    "\n",
    "<span class=\"instruction\">Before starting the assignment, please fill in the following cell.</span>"
   ]
  },
  {
   "cell_type": "code",
   "execution_count": 2,
   "metadata": {
    "tags": []
   },
   "outputs": [
    {
     "name": "stdout",
     "output_type": "stream",
     "text": [
      "Your name and email: HaoChun Shih <haochuns@umich.edu>\n"
     ]
    }
   ],
   "source": [
    "###################################################################\n",
    "# Enter your first and last name, e.g. \"John Doe\"                 #\n",
    "# for example                                                     #\n",
    "# __NAME__ = \"First Last\"                                         #\n",
    "# __UNIQID__ = \"uniquename\"                                       #\n",
    "###################################################################\n",
    "__NAME__ = \"HaoChun Shih\"\n",
    "__UNIQID__ = \"haochuns\"\n",
    "###################################################################\n",
    "#                        END OF YOUR CODE                         #\n",
    "###################################################################\n",
    "\n",
    "print(f\"Your name and email: {__NAME__} <{__UNIQID__}@umich.edu>\")\n",
    "assert __NAME__ and __UNIQID__"
   ]
  },
  {
   "cell_type": "markdown",
   "metadata": {
    "colab_type": "text",
    "id": "Hbe3wUpVAjma"
   },
   "source": [
    "# RNNs and Image Captioning\n",
    "In this notebook, you will test your RNN implementation from `rnn.py` on the coco image captioning dataset."
   ]
  },
  {
   "cell_type": "markdown",
   "metadata": {
    "colab_type": "text",
    "id": "eYE9thuXn4zP"
   },
   "source": [
    "## Setup code\n",
    "Before getting started, we need to run some boilerplate code to set up our environment. You'll need to rerun this setup code each time you start the notebook. Let's start by checking whether we are using Python 3.11 or higher."
   ]
  },
  {
   "cell_type": "code",
   "execution_count": 3,
   "metadata": {
    "colab": {},
    "colab_type": "code",
    "id": "QqEfH2Rpn9J3",
    "tags": []
   },
   "outputs": [
    {
     "name": "stdout",
     "output_type": "stream",
     "text": [
      "You are good to go\n"
     ]
    }
   ],
   "source": [
    "import sys\n",
    "if sys.version_info[0] < 3:\n",
    "    raise Exception(\"You must use Python 3\")\n",
    "\n",
    "if sys.version_info[1] < 11:\n",
    "    print(\"Autograder will execute your code based on Python 3.11 environment. Please use Python 3.11 or higher to prevent any issues\")\n",
    "    print(\"You can create a conda environment with Python 3.11 like 'conda create --name eecs545 python=3.11'\")\n",
    "    raise Exception(\"Python 3 version is too low: {}\".format(sys.version))\n",
    "else:\n",
    "    print(\"You are good to go\")"
   ]
  },
  {
   "cell_type": "markdown",
   "metadata": {},
   "source": [
    "First, run this cell load the [autoreload](https://ipython.readthedocs.io/en/stable/config/extensions/autoreload.html) extension. This allows us to edit `.py` source files, and re-import them into the notebook for a seamless editing and debugging experience."
   ]
  },
  {
   "cell_type": "code",
   "execution_count": 4,
   "metadata": {
    "tags": []
   },
   "outputs": [],
   "source": [
    "%load_ext autoreload\n",
    "%autoreload 2"
   ]
  },
  {
   "cell_type": "markdown",
   "metadata": {
    "colab_type": "text",
    "id": "GaCqHOm9oPB3"
   },
   "source": [
    "Then, we run some setup code for this notebook: Import some useful packages and increase the default figure size."
   ]
  },
  {
   "cell_type": "code",
   "execution_count": 5,
   "metadata": {
    "colab": {
     "base_uri": "https://localhost:8080/",
     "height": 68
    },
    "colab_type": "code",
    "id": "oCaNVx6JoWid",
    "outputId": "2133e4c6-8a6e-4ea3-dd97-23ad471ba2b0",
    "tags": []
   },
   "outputs": [],
   "source": [
    "# install required libraries\n",
    "# !pip install numpy==1.24.1 matplotlib==3.6.2 scikit-learn==1.2.0 h5py==3.8.0 imageio==2.25.1\n",
    "\n",
    "# import libraries\n",
    "import math\n",
    "import numpy as np\n",
    "import matplotlib.pyplot as plt\n",
    "\n",
    "# set figure size\n",
    "plt.rcParams['figure.figsize'] = (10.0, 8.0)\n",
    "plt.rcParams['font.size'] = 16"
   ]
  },
  {
   "cell_type": "code",
   "execution_count": 6,
   "metadata": {
    "colab": {},
    "colab_type": "code",
    "id": "O3EvIZ0uAOVN",
    "tags": []
   },
   "outputs": [
    {
     "data": {
      "text/html": [
       "\n",
       "<style type=\"text/css\">\n",
       "  .instruction { background-color: yellow; font-weight:bold; padding: 3px; }\n",
       "</style>\n"
      ]
     },
     "metadata": {},
     "output_type": "display_data"
    }
   ],
   "source": [
    "from IPython.display import display_html, HTML\n",
    "\n",
    "display_html(HTML('''\n",
    "<style type=\"text/css\">\n",
    "  .instruction { background-color: yellow; font-weight:bold; padding: 3px; }\n",
    "</style>\n",
    "'''));"
   ]
  },
  {
   "cell_type": "markdown",
   "metadata": {},
   "source": [
    "Running the following cell allow us to import from `rnn_layers.py` and `rnn.py`. If it works correctly, it should print the message:\n",
    "```Hello from rnn_layers.py``` and ```Hello from rnn.py```"
   ]
  },
  {
   "cell_type": "code",
   "execution_count": 7,
   "metadata": {
    "tags": []
   },
   "outputs": [
    {
     "name": "stdout",
     "output_type": "stream",
     "text": [
      "Hello from rnn_layers.py!\n",
      "Hello from rnn.py!\n"
     ]
    }
   ],
   "source": [
    "from rnn_layers import hello\n",
    "from rnn import hello as hello2\n",
    "hello()\n",
    "hello2()"
   ]
  },
  {
   "cell_type": "markdown",
   "metadata": {},
   "source": [
    "# Image Captioning\n"
   ]
  },
  {
   "cell_type": "markdown",
   "metadata": {},
   "source": [
    "## What is COCO?\n",
    "\n",
    "[COCO](https://cocodataset.org/) (Common Objects in COntext) is a large-scale object detection, segmentation, and captioning dataset.\n",
    "\n",
    "COCO has 330K images (>200K labeled)! Labelled images have object segmentations, and captions.\n",
    "\n",
    "![COCO examples](https://cocodataset.org/images/coco-examples.jpg)\n"
   ]
  },
  {
   "cell_type": "markdown",
   "metadata": {
    "tags": []
   },
   "source": [
    "## Loading COCO\n",
    "\n",
    "Please download the dataset (987Mb) from [this link](https://drive.google.com/file/d/1RjZTIVp4ES1Ewv1QAJgCS_7DYyJa-Yf1/view?usp=sharing) and unzip the folder into the data directory.\n",
    "```\n",
    "HW4 /\n",
    "--| image_captioning.ipynb\n",
    "--| data /\n",
    "----| coco_captioning /\n",
    "------| coco2014_captions.h5\n",
    "------| ...\n",
    "```\n",
    "\n",
    "The dataset contains the preprocessed features and captions from the COCO dataset."
   ]
  },
  {
   "cell_type": "code",
   "execution_count": 8,
   "metadata": {},
   "outputs": [],
   "source": [
    "# !pip install h5py\n",
    "import coco_utils\n",
    "\n",
    "MAX_TRAIN = 200# We'll train with a very small dataset\n",
    "\n",
    "# Load COCO data from disk; this returns a dictionary\n",
    "small_data = coco_utils.load_coco_data(max_train=MAX_TRAIN)"
   ]
  },
  {
   "cell_type": "markdown",
   "metadata": {},
   "source": [
    "## Visualizing COCO\n",
    "\n",
    "Let's check out some images in our COCO dataset. You can browse the full dataset [here](https://cocodataset.org/#explore)! My favourite image is [this one](https://cocodataset.org/#explore?id=314526). It turns out when you have a 330K image dataset, some of the images might be really [weird](https://blog.roboflow.com/coco-dataset-image-search/). Check it out!\n",
    "\n",
    "Let's visualize some images from the downloaded COCO. Note we have to load them from the URL since they aren't stored in our dataset. (We save the preprocessed features). Some of these images may not load properly because the URLs are no longer active."
   ]
  },
  {
   "cell_type": "code",
   "execution_count": 9,
   "metadata": {
    "tags": []
   },
   "outputs": [],
   "source": [
    "def md_table(urls, captions, cols=5):\n",
    "    table = '|   ' * cols + '|\\n' + '|---' * cols + '|\\n'\n",
    "    row = lambda idxs: '| ' + ' | '.join(f'![train image {i}]({urls[i]})' for i in idxs) + ' |'\n",
    "    row_cap = lambda idxs: '| ' + ' | '.join(f'**{str(captions[i])}**' for i in idxs) + ' |'\n",
    "    table += '\\n'.join(row(range(i, i+cols)) + '\\n' + row_cap(range(i, i+cols)) for i in range(0, len(urls), cols))\n",
    "    table = table.replace('<', '\\<')# show angle brackets in MD\n",
    "    table = table.replace('\\<br>', '<br>')# keep <br> as newline\n",
    "    return table"
   ]
  },
  {
   "cell_type": "code",
   "execution_count": 10,
   "metadata": {},
   "outputs": [
    {
     "data": {
      "text/markdown": [
       "|   |   |   |   |   |\n",
       "|---|---|---|---|---|\n",
       "| ![train image 0](http://farm4.staticflickr.com/3828/9515372128_e874a589fa_z.jpg) | ![train image 1](http://farm9.staticflickr.com/8093/8362722159_5c76891fba_z.jpg) | ![train image 2](http://farm6.staticflickr.com/5480/9706351564_6b7001868e_z.jpg) | ![train image 3](http://farm5.staticflickr.com/4052/5162428391_872f641b4a_z.jpg) | ![train image 4](http://farm1.staticflickr.com/51/105582257_149d0b1007_z.jpg) |\n",
       "| **\\<START> two people walking down a street holding an umbrella \\<END>** | **\\<START> the plate is filled with meat and vegetables \\<END>** | **\\<START> tennis player in a tennis court \\<UNK> with her tennis racket \\<END>** | **\\<START> a man in a blue shirt holding a white plate with some food on it \\<END>** | **\\<START> a \\<UNK> vase being displayed in a \\<UNK> \\<END>** |\n",
       "| ![train image 5](http://farm9.staticflickr.com/8016/7268221008_3e953f93dd_z.jpg) | ![train image 6](http://farm5.staticflickr.com/4081/4751171578_2137e00d34_z.jpg) | ![train image 7](http://farm9.staticflickr.com/8462/8036487923_12f8c0b71e_z.jpg) | ![train image 8](http://farm8.staticflickr.com/7366/9889727824_ae51c4077f_z.jpg) | ![train image 9](http://farm8.staticflickr.com/7409/10194986376_61bbeac653_z.jpg) |\n",
       "| **\\<START> a person is standing on the water on a \\<UNK> board \\<END>** | **\\<START> a traffic signal with a very big pretty building by it \\<END>** | **\\<START> a very big room with a big pretty clock \\<END>** | **\\<START> many beautiful fruit \\<UNK> line the shelves in the market \\<END>** | **\\<START> a double decker green bus driving down a \\<UNK> road near a lake \\<END>** |\n",
       "| ![train image 10](http://farm4.staticflickr.com/3202/2345517887_36ef2e7551_z.jpg) | ![train image 11](http://farm9.staticflickr.com/8010/7643240678_82fdaa2f60_z.jpg) | ![train image 12](http://farm4.staticflickr.com/3346/3616813166_ff18a41f6f_z.jpg) | ![train image 13](http://farm9.staticflickr.com/8452/8041161824_c6da3831c1_z.jpg) | ![train image 14](http://farm7.staticflickr.com/6121/5917556272_2448eabaa4_z.jpg) |\n",
       "| **\\<START> a large green hotel sign on the corner \\<END>** | **\\<START> \\<UNK> \\<UNK> on a street with traffic behind it \\<END>** | **\\<START> the \\<UNK> stands next to the \\<UNK> as a batter is swinging \\<END>** | **\\<START> a cat is standing on a seat of a toilet \\<END>** | **\\<START> a pizza with \\<UNK> \\<UNK> \\<UNK> and cheese \\<END>** |\n",
       "| ![train image 15](http://farm4.staticflickr.com/3645/3571849552_9afdac5dec_z.jpg) | ![train image 16](http://farm4.staticflickr.com/3117/2636949743_56a878209d_z.jpg) | ![train image 17](http://farm2.staticflickr.com/1414/1366775115_58ff6b6cd3_z.jpg) | ![train image 18](http://farm4.staticflickr.com/3277/3089235227_1560b21f11_z.jpg) | ![train image 19](http://farm9.staticflickr.com/8453/8018484689_ec5a2594d2_z.jpg) |\n",
       "| **\\<START> \\<UNK> a flat toilet in a small bathroom \\<END>** | **\\<START> a \\<UNK> tennis match \\<UNK> \\<UNK> on a grass court \\<END>** | **\\<START> a \\<UNK> with several \\<UNK> pictures on it \\<END>** | **\\<START> a small bathroom with a \\<UNK> looking toilet and sink \\<END>** | **\\<START> a cow with an ear \\<UNK> is standing in tall grass \\<END>** |"
      ],
      "text/plain": [
       "<IPython.core.display.Markdown object>"
      ]
     },
     "execution_count": 10,
     "metadata": {},
     "output_type": "execute_result"
    }
   ],
   "source": [
    "from IPython.display import Markdown as md\n",
    "n_imgs = 20\n",
    "rng = np.random.default_rng(545)\n",
    "captions, features, img_urls = coco_utils.sample_coco_minibatch(\n",
    "    small_data, split='train', batch_size=n_imgs, seed=545)\n",
    "cap_str = [coco_utils.decode_captions(c, small_data['idx_to_word']) for c in captions]\n",
    "md(md_table(img_urls, cap_str))"
   ]
  },
  {
   "cell_type": "markdown",
   "metadata": {},
   "source": [
    "Footnote: Special tokens. \\<START> and \\<END> tokens denote the start and end of the captions.\n",
    "The \\<UNK> token is created during preprocessing and replaces words that do not occur in the dataset very often. Doing this sometimes helps the model learn better since it shrinks the vocabulary!"
   ]
  },
  {
   "cell_type": "markdown",
   "metadata": {},
   "source": [
    "## Training\n",
    "Next, we'll train an RNN to predict captions on COCO. <span class=\"instruction\">Make sure you have implemented `temporal_fc_forward` and `temporal_fc_backward` in `rnn_layers.py`, and `CaptioningRNN` from `rnn.py`.</span>\n",
    "Read through `captioning_solver.py` to make sure you understand the API. "
   ]
  },
  {
   "cell_type": "markdown",
   "metadata": {},
   "source": [
    "### Correctness Checks\n",
    "\n",
    "Like `cnn.ipynb`, we have included some tests to check your implementation. However, we have left the numerical gradient checks blank.\n",
    "These checks are optional, but they may be helpful for debugging. Hint: follow the same steps as done in `cnn.ipynb`."
   ]
  },
  {
   "cell_type": "code",
   "execution_count": 11,
   "metadata": {},
   "outputs": [],
   "source": [
    "from gradient_check import rel_error, eval_numerical_gradient, eval_numerical_gradient_array\n",
    "from rnn_layers import temporal_fc_backward, temporal_fc_forward\n",
    "\n",
    "# OPTIONAL TODO Test with eval_numerical_gradient_array.\n",
    "# Hint: Start by sampling some random test data. (Refer to the rnn_layers.py comments to check the shapes)\n",
    "# Then, call eval_numerical_gradient_array on the test data. (Refer to cnn.ipynb for examples)\n",
    "# Compare the results of eval_numerical_gradient_array with your own backward implementation."
   ]
  },
  {
   "cell_type": "code",
   "execution_count": 12,
   "metadata": {},
   "outputs": [
    {
     "name": "stdout",
     "output_type": "stream",
     "text": [
      "Testing training loss...\n",
      "done.\n"
     ]
    }
   ],
   "source": [
    "from gradient_check import rel_error, eval_numerical_gradient, eval_numerical_gradient_array\n",
    "from rnn import CaptioningRNN\n",
    "\n",
    "# Generate dummy test data\n",
    "wtoi = {f'{i}': i for i in range(7)}# dummy word to index\n",
    "wtoi['<NULL>'] = 8\n",
    "wtoi['<START>'] = 9\n",
    "wtoi['<END>'] = 10\n",
    "np.random.seed(0)\n",
    "test_rnn_model = CaptioningRNN(\n",
    "      cell_type='rnn',\n",
    "      word_to_idx=wtoi,\n",
    "      input_dim=5,\n",
    "      hidden_dim=4,\n",
    "      wordvec_dim=5,\n",
    ")\n",
    "rng = np.random.default_rng(545)\n",
    "X = rng.standard_normal((2, 5))\n",
    "y = rng.integers(0, 10, size=(2, 4))\n",
    "\n",
    "print('Testing training loss...')\n",
    "loss, grads = test_rnn_model.loss(X, y)\n",
    "\n",
    "assert np.abs(loss - 7.783337014604364) < 1e-4, 'loss should be close.'\n",
    "\n",
    "# OPTIONAL TODO Test with eval_numerical_gradient_array.\n",
    "# Hint: write a loop to check each grad (Refer to cnn.ipynb for examples)\n",
    "\n",
    "\n",
    "print('done.')"
   ]
  },
  {
   "cell_type": "code",
   "execution_count": 19,
   "metadata": {
    "tags": []
   },
   "outputs": [
    {
     "name": "stdout",
     "output_type": "stream",
     "text": [
      "Testing rnn sample...\n",
      "Done.\n"
     ]
    }
   ],
   "source": [
    "# Generate dummy test data\n",
    "wtoi = {f'{i}': i for i in range(7)}# dummy word to index\n",
    "wtoi['<NULL>'] = 8\n",
    "wtoi['<START>'] = 9\n",
    "wtoi['<END>'] = 10\n",
    "np.random.seed(1)\n",
    "test_rnn_model = CaptioningRNN(\n",
    "      cell_type='rnn',\n",
    "      word_to_idx=wtoi,\n",
    "      input_dim=5,\n",
    "      hidden_dim=4,\n",
    "      wordvec_dim=5,\n",
    ")\n",
    "rng = np.random.default_rng(545)\n",
    "X = rng.standard_normal((2, 5))\n",
    "\n",
    "print('Testing rnn sample...')\n",
    "captions = test_rnn_model.sample(X, max_length=17)\n",
    "gt_captions = np.array([[1, 0, 7, 2, 1, 8, 7, 7, 7, 7, 7, 7, 7, 7, 7, 7, 7],\n",
    "       [6, 5, 1, 0, 7, 6, 5, 0, 7, 7, 7, 7, 7, 7, 7, 7, 7]])\n",
    "assert np.all(captions == gt_captions)\n",
    "print('Done.')"
   ]
  },
  {
   "cell_type": "markdown",
   "metadata": {},
   "source": [
    "### Initializing the model"
   ]
  },
  {
   "cell_type": "code",
   "execution_count": 13,
   "metadata": {},
   "outputs": [],
   "source": [
    "from rnn import CaptioningRNN\n",
    "from captioning_solver import CaptioningSolver\n",
    "\n",
    "np.random.seed(0)\n",
    "# Experiment with vanilla RNN\n",
    "small_rnn_model = CaptioningRNN(\n",
    "      cell_type='rnn',\n",
    "      word_to_idx=small_data['word_to_idx'],\n",
    "      input_dim=small_data['train_features'].shape[1],\n",
    "      hidden_dim=512,\n",
    "      wordvec_dim=256,\n",
    ")\n",
    "\n",
    "small_rnn_solver = CaptioningSolver(small_rnn_model, small_data,\n",
    "       update_rule='adam',\n",
    "       num_epochs=58,\n",
    "       batch_size=25,\n",
    "       optim_config={\n",
    "         'learning_rate': 4e-3,\n",
    "       },\n",
    "       lr_decay=0.95,\n",
    "       verbose=True, print_every=10,\n",
    "     )"
   ]
  },
  {
   "cell_type": "markdown",
   "metadata": {},
   "source": [
    "### Train!\n",
    "\n",
    "Remember to include the plot of your learning curves in the final report."
   ]
  },
  {
   "cell_type": "code",
   "execution_count": 14,
   "metadata": {},
   "outputs": [
    {
     "name": "stdout",
     "output_type": "stream",
     "text": [
      "(Iteration 1 / 464) loss: 77.461908\n",
      "(Iteration 11 / 464) loss: 56.948375\n",
      "(Iteration 21 / 464) loss: 35.118544\n",
      "(Iteration 31 / 464) loss: 22.324996\n",
      "(Iteration 41 / 464) loss: 19.796825\n",
      "(Iteration 51 / 464) loss: 7.753935\n",
      "(Iteration 61 / 464) loss: 7.885911\n",
      "(Iteration 71 / 464) loss: 3.529135\n",
      "(Iteration 81 / 464) loss: 2.363732\n",
      "(Iteration 91 / 464) loss: 2.608455\n",
      "(Iteration 101 / 464) loss: 0.984790\n",
      "(Iteration 111 / 464) loss: 0.636966\n",
      "(Iteration 121 / 464) loss: 0.337632\n",
      "(Iteration 131 / 464) loss: 0.270756\n",
      "(Iteration 141 / 464) loss: 0.693979\n",
      "(Iteration 151 / 464) loss: 0.232704\n",
      "(Iteration 161 / 464) loss: 0.173717\n",
      "(Iteration 171 / 464) loss: 0.175537\n",
      "(Iteration 181 / 464) loss: 0.143498\n",
      "(Iteration 191 / 464) loss: 0.162632\n",
      "(Iteration 201 / 464) loss: 0.141661\n",
      "(Iteration 211 / 464) loss: 0.126652\n",
      "(Iteration 221 / 464) loss: 0.144719\n",
      "(Iteration 231 / 464) loss: 0.107181\n",
      "(Iteration 241 / 464) loss: 0.142200\n",
      "(Iteration 251 / 464) loss: 0.133118\n",
      "(Iteration 261 / 464) loss: 0.118951\n",
      "(Iteration 271 / 464) loss: 0.113670\n",
      "(Iteration 281 / 464) loss: 0.128501\n",
      "(Iteration 291 / 464) loss: 0.127407\n",
      "(Iteration 301 / 464) loss: 0.108217\n",
      "(Iteration 311 / 464) loss: 0.105087\n",
      "(Iteration 321 / 464) loss: 0.115023\n",
      "(Iteration 331 / 464) loss: 0.106435\n",
      "(Iteration 341 / 464) loss: 0.093521\n",
      "(Iteration 351 / 464) loss: 0.104776\n",
      "(Iteration 361 / 464) loss: 0.090490\n",
      "(Iteration 371 / 464) loss: 0.089626\n",
      "(Iteration 381 / 464) loss: 0.086788\n",
      "(Iteration 391 / 464) loss: 0.094198\n",
      "(Iteration 401 / 464) loss: 0.090035\n",
      "(Iteration 411 / 464) loss: 0.085572\n",
      "(Iteration 421 / 464) loss: 0.082280\n",
      "(Iteration 431 / 464) loss: 0.080850\n",
      "(Iteration 441 / 464) loss: 0.090691\n",
      "(Iteration 451 / 464) loss: 0.091661\n",
      "(Iteration 461 / 464) loss: 0.086321\n"
     ]
    }
   ],
   "source": [
    "small_rnn_solver.train()"
   ]
  },
  {
   "cell_type": "code",
   "execution_count": 16,
   "metadata": {},
   "outputs": [
    {
     "data": {
      "image/png": "[encoded data removed]",
      "text/plain": [
       "<Figure size 1000x800 with 1 Axes>"
      ]
     },
     "metadata": {},
     "output_type": "display_data"
    }
   ],
   "source": [
    "# Plot the training losses\n",
    "plt.plot(small_rnn_solver.loss_history)\n",
    "plt.xlabel('Iteration')\n",
    "plt.ylabel('Loss')\n",
    "plt.title('Training loss history')\n",
    "plt.savefig('image_captioning_loss.png', dpi=256)\n",
    "plt.show()\n",
    "plt.close()"
   ]
  },
  {
   "cell_type": "markdown",
   "metadata": {},
   "source": [
    "### Testing and Visualization\n",
    "\n",
    "Finally, let's test our model on some validation data. Include your generated train and validation captions in the final report."
   ]
  },
  {
   "cell_type": "code",
   "execution_count": 17,
   "metadata": {},
   "outputs": [],
   "source": [
    "from image_utils import image_from_url\n",
    "\n",
    "tables = {}\n",
    "for split in ['train', 'val']:\n",
    "    # some images might be deprecated. You may rerun the code several times\n",
    "    # to successfully get the sample images from url.\n",
    "    minibatch = coco_utils.sample_coco_minibatch(\n",
    "        small_data, split=split, batch_size=10, seed=545)\n",
    "    gt_captions, features, urls = minibatch\n",
    "    gt_captions = coco_utils.decode_captions(gt_captions,\n",
    "                                             small_data['idx_to_word'])\n",
    "\n",
    "    sample_captions = small_rnn_model.sample(features)\n",
    "    sample_captions = coco_utils.decode_captions(sample_captions,\n",
    "                                                 small_data['idx_to_word'])\n",
    "\n",
    "    figure_caption = [f'Sample: {sample_cap} <br> GT: {gt_cap}' for sample_cap, gt_cap in zip(sample_captions, gt_captions)]\n",
    "    tables[split] = md_table(urls, figure_caption)\n"
   ]
  },
  {
   "cell_type": "code",
   "execution_count": 18,
   "metadata": {},
   "outputs": [
    {
     "data": {
      "text/markdown": [
       "## Training samples \n",
       " |   |   |   |   |   |\n",
       "|---|---|---|---|---|\n",
       "| ![train image 0](http://farm4.staticflickr.com/3828/9515372128_e874a589fa_z.jpg) | ![train image 1](http://farm9.staticflickr.com/8093/8362722159_5c76891fba_z.jpg) | ![train image 2](http://farm6.staticflickr.com/5480/9706351564_6b7001868e_z.jpg) | ![train image 3](http://farm5.staticflickr.com/4052/5162428391_872f641b4a_z.jpg) | ![train image 4](http://farm1.staticflickr.com/51/105582257_149d0b1007_z.jpg) |\n",
       "| **Sample: two people walking down a street holding an umbrella \\<END> <br> GT: \\<START> two people walking down a street holding an umbrella \\<END>** | **Sample: the plate is filled with meat and vegetables \\<END> <br> GT: \\<START> the plate is filled with meat and vegetables \\<END>** | **Sample: tennis player in a tennis court \\<UNK> with her tennis racket \\<END> <br> GT: \\<START> tennis player in a tennis court \\<UNK> with her tennis racket \\<END>** | **Sample: a man in a blue shirt holding a white plate with some food on it \\<END> <br> GT: \\<START> a man in a blue shirt holding a white plate with some food on it \\<END>** | **Sample: a \\<UNK> vase being displayed in a \\<UNK> \\<END> <br> GT: \\<START> a \\<UNK> vase being displayed in a \\<UNK> \\<END>** |\n",
       "| ![train image 5](http://farm9.staticflickr.com/8016/7268221008_3e953f93dd_z.jpg) | ![train image 6](http://farm5.staticflickr.com/4081/4751171578_2137e00d34_z.jpg) | ![train image 7](http://farm9.staticflickr.com/8462/8036487923_12f8c0b71e_z.jpg) | ![train image 8](http://farm8.staticflickr.com/7366/9889727824_ae51c4077f_z.jpg) | ![train image 9](http://farm8.staticflickr.com/7409/10194986376_61bbeac653_z.jpg) |\n",
       "| **Sample: a person is standing on the water on a \\<UNK> board \\<END> <br> GT: \\<START> a person is standing on the water on a \\<UNK> board \\<END>** | **Sample: a traffic signal with a very big pretty building by it \\<END> <br> GT: \\<START> a traffic signal with a very big pretty building by it \\<END>** | **Sample: a very big room with a big pretty clock \\<END> <br> GT: \\<START> a very big room with a big pretty clock \\<END>** | **Sample: many beautiful fruit \\<UNK> line the shelves in the market \\<END> <br> GT: \\<START> many beautiful fruit \\<UNK> line the shelves in the market \\<END>** | **Sample: a double decker green bus driving down a \\<UNK> road near a lake \\<END> <br> GT: \\<START> a double decker green bus driving down a \\<UNK> road near a lake \\<END>** |"
      ],
      "text/plain": [
       "<IPython.core.display.Markdown object>"
      ]
     },
     "execution_count": 18,
     "metadata": {},
     "output_type": "execute_result"
    }
   ],
   "source": [
    "md('## Training samples \\n ' + tables['train'])"
   ]
  },
  {
   "cell_type": "code",
   "execution_count": 19,
   "metadata": {
    "tags": []
   },
   "outputs": [
    {
     "data": {
      "text/markdown": [
       "## Validation samples \n",
       " |   |   |   |   |   |\n",
       "|---|---|---|---|---|\n",
       "| ![train image 0](http://farm1.staticflickr.com/98/232570195_3d29e80f86_z.jpg) | ![train image 1](http://farm8.staticflickr.com/7182/6859527791_a1cd7af962_z.jpg) | ![train image 2](http://farm4.staticflickr.com/3023/2672786915_248cfd7c62_z.jpg) | ![train image 3](http://farm8.staticflickr.com/7261/7580453970_335fceee54_z.jpg) | ![train image 4](http://farm8.staticflickr.com/7070/7123518753_26f8ede211_z.jpg) |\n",
       "| **Sample: \\<UNK> \\<UNK> on a table near the boat \\<END> <br> GT: \\<START> a herd of sheep that are walking through a large group of people \\<END>** | **Sample: playing \\<UNK> at a \\<UNK> \\<END> <br> GT: \\<START> a row of vintage cars in a grassy field \\<END>** | **Sample: a pizza with a \\<UNK> in the \\<UNK> \\<END> <br> GT: \\<START> the young man is \\<UNK> the young woman on top of her head \\<END>** | **Sample: sitting on a a tennis on top of a \\<UNK> \\<END> <br> GT: \\<START> a young man carrying a surf board under his arm \\<END>** | **Sample: cow man one standing on a \\<UNK> on a \\<UNK> \\<END> <br> GT: \\<START> an image of a man on the beach riding horse \\<END>** |\n",
       "| ![train image 5](http://farm9.staticflickr.com/8051/8388343572_d2a0f62c1a_z.jpg) | ![train image 6](http://farm5.staticflickr.com/4114/4850716846_7f8b2fa27c_z.jpg) | ![train image 7](http://farm3.staticflickr.com/2330/1510813540_6fcf299cca_z.jpg) | ![train image 8](http://farm6.staticflickr.com/5258/5501327196_fd90312cb5_z.jpg) | ![train image 9](http://farm4.staticflickr.com/3110/2291542385_92312a2810_z.jpg) |\n",
       "| **Sample: a man and a the \\<UNK> on a baseball across a \\<UNK> \\<END> <br> GT: \\<START> a person holding a baseball bat in a \\<UNK> cage \\<END>** | **Sample: a man and up a truck \\<UNK> with a \\<UNK> street \\<END> <br> GT: \\<START> a woman is reading on a park bench beside a \\<UNK> \\<END>** | **Sample: a person on a jacket and on \\<UNK> \\<UNK> to the \\<END> <br> GT: \\<START> a person who is surfing in a wave pool \\<END>** | **Sample: there woman a woman next to a forest \\<END> <br> GT: \\<START> a man that is surfing on a wave in water \\<END>** | **Sample: the \\<UNK> with a \\<UNK> on \\<UNK> \\<UNK> a the \\<UNK> \\<END> <br> GT: \\<START> a meal of sandwiches potatoes and red \\<UNK> beer \\<END>** |"
      ],
      "text/plain": [
       "<IPython.core.display.Markdown object>"
      ]
     },
     "execution_count": 19,
     "metadata": {},
     "output_type": "execute_result"
    }
   ],
   "source": [
    "md('## Validation samples \\n ' + tables['val'])"
   ]
  }
 ],
 "metadata": {
  "accelerator": "GPU",
  "colab": {
   "collapsed_sections": [
    "eYE9thuXn4zP",
    "CdowvtJen-IP",
    "KtMy3qeipNK3",
    "Hbe3wUpVAjma",
    "lJqim3P1qZgv",
    "ZLdCF3B-AOVT",
    "7XNJ3ydEAOVW",
    "vExP-7n3AOVa",
    "LjAUalCBAOVd",
    "8cPIajWNAOVg",
    "_CsYAv3uAOVi",
    "ixxgq5RKAOVl",
    "OlVbXxmPNzPY",
    "rDNZ8ZAnN7hj",
    "QpSrK3olUfOZ",
    "3zFWkxebWXtu",
    "mVCEro4FAOVq",
    "UG56gKWsAOVv",
    "37R_J2uMP3d-"
   ],
   "name": "two_layer_net.ipynb",
   "provenance": [],
   "toc_visible": true
  },
  "kernelspec": {
   "display_name": "545env",
   "language": "python",
   "name": "python3"
  },
  "language_info": {
   "codemirror_mode": {
    "name": "ipython",
    "version": 3
   },
   "file_extension": ".py",
   "mimetype": "text/x-python",
   "name": "python",
   "nbconvert_exporter": "python",
   "pygments_lexer": "ipython3",
   "version": "3.11.11"
  }
 },
 "nbformat": 4,
 "nbformat_minor": 4
}
